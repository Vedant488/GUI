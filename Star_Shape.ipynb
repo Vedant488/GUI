{
 "cells": [
  {
   "cell_type": "code",
   "execution_count": 30,
   "metadata": {},
   "outputs": [],
   "source": [
    "from tkinter import *\n",
    "root = Tk() \n",
    "w = Canvas(root, bg=\"green\") \n",
    "w.pack() \n",
    "height=100\n",
    "width=50\n",
    "w.create_line(0, height, width, height,fill=\"yellow\")\n",
    "w.create_line(width, height, width+40, height-40,fill=\"yellow\")\n",
    "w.create_line(width+40, height-40, width+80, height,fill=\"yellow\")\n",
    "w.create_line(width+80, height, width+120, height,fill=\"yellow\")\n",
    "w.create_line(width+120, height, width+80, height+40,fill=\"yellow\")\n",
    "w.create_line(width+80, height+40, width+120, height+80,fill=\"yellow\")\n",
    "w.create_line(width+120, height+80, width+80, height+80,fill=\"yellow\")\n",
    "w.create_line(width+80, height+80, width+40, height+120,fill=\"yellow\")\n",
    "w.create_line(width+40, height+120, width, height+80,fill=\"yellow\")\n",
    "w.create_line(width, height+80, 0, height+80,fill=\"yellow\")\n",
    "w.create_line(0, height+80, width, height+40,fill=\"yellow\")\n",
    "w.create_line(width, height+40, 0, height,fill=\"yellow\")\n",
    "mainloop()"
   ]
  },
  {
   "cell_type": "code",
   "execution_count": null,
   "metadata": {},
   "outputs": [],
   "source": []
  }
 ],
 "metadata": {
  "kernelspec": {
   "display_name": "Python 3",
   "language": "python",
   "name": "python3"
  },
  "language_info": {
   "codemirror_mode": {
    "name": "ipython",
    "version": 3
   },
   "file_extension": ".py",
   "mimetype": "text/x-python",
   "name": "python",
   "nbconvert_exporter": "python",
   "pygments_lexer": "ipython3",
   "version": "3.7.4"
  }
 },
 "nbformat": 4,
 "nbformat_minor": 2
}
